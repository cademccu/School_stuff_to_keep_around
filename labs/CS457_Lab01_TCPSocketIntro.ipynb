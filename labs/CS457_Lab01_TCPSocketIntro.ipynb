{
 "cells": [
  {
   "cell_type": "markdown",
   "metadata": {},
   "source": [
    "<h1><center>CS457 Lab 1 <br />Introduction to TCP Sockets</center></h1>\n",
    "\n",
    "### Introduction\n",
    "\n",
    "This first CS457 lab is a \"gentle\" introduction to network socket programming.  For the time being we will avoid handling errors and other situations such as dealing with network byte order or asynchronous multi-connection threads.  We'll get to those issues in the next lab.\n",
    "Right now we just want study some simple examples to give you basic information on how sockets work. \n",
    "\n",
    "#### Lab 1 Overview\n",
    "\n",
    "In this lab you will simply execute  python code to study examples of simple socket programs; no new code needs to be written by you. Executing a cell in jupyter requires you to be in the cell and pushing SHIFT RETURN. \n",
    "\n",
    "In this lab you will learn how to use TCP sockets to\n",
    "\n",
    "1. Connect to a well known web site, google.com, and read the contents of a web page.  \n",
    "2. Run a simple \"hello world\" server.\n",
    "3. Run very simple \"echo server\" and \"echo client\" programs to illustrate the differences in structure between a TCP server and a TCP client.\n",
    "\n",
    "#### Acknowledgements and Citations\n",
    "\n",
    "This lab has original material as well as material sourced and modified from various sites such as Nathan Jenning's [Socket Programming in Python](https://realpython.com/python-sockets/), the [GeeksForGeeks Socket programming guide](https://www.geeksforgeeks.org/socket-programming-python/), and lab exercises from the Kurose and Ross Networking textbook."
   ]
  },
  {
   "cell_type": "markdown",
   "metadata": {},
   "source": [
    "----\n",
    "\n",
    "### Part 1:  Introduction to Sockets and Ports\n",
    "\n",
    "Socket programming is a way of connecting two nodes on a network to communicate with each other. In streaming mode (TCP), one socket(node) listens on a particular port, while another socket reaches out to the other to form a connection.  Data can then be exchanged in a client/server relationship.\n",
    "\n",
    "Ports are a method for the operating system to connect the socket to the appropriate application.  \n",
    "\n",
    "<img src=\"http://www.cs.colostate.edu/~cs457/images/jupyter/socket_port.png\" alt=\"socket diagram\" />\n",
    "\n",
    "Ports are simply numbers from 0 to 65535.  The first 1023 ports are reserved for specific applications, and are called \"well known ports\". As illustrated below, Port 80, for example, is used for web servers.  Port 53 is used for DNS.  Here is a list of [well known ports](https://en.wikipedia.org/wiki/List_of_TCP_and_UDP_port_numbers). The ports numbered from 1024 and above are called *\"ephemeral ports\"* and can be used by any application.\n",
    "\n",
    "<img src=\"http://www.cs.colostate.edu/~cs457/images/jupyter/multipleSockets.jpg\" width=\"350px\" alt=\"multiple sockets\" />"
   ]
  },
  {
   "cell_type": "markdown",
   "metadata": {},
   "source": [
    "#### 1A) Socket Creation and Initialization\n",
    "\n",
    "Socket programming in python is started by importing the socket library and making a simple socket. Execute the following cell (SHIFT-RETURN):"
   ]
  },
  {
   "cell_type": "code",
   "execution_count": null,
   "metadata": {},
   "outputs": [],
   "source": [
    "import socket\n",
    "s = socket.socket(socket.AF_INET, socket.SOCK_STREAM)\n",
    "print (s)"
   ]
  },
  {
   "cell_type": "markdown",
   "metadata": {},
   "source": [
    "Here we made a socket instance and passed it two parameters. The first parameter is `AF_INET` and the second one is `SOCK_STREAM`.  `AF_INET` refers to the IPv4 address family (later we will use IPv6). The `SOCK_STREAM` parameter means to use a socket with *connection-oriented* TCP protocol. In a future lab we will use the SOCK_DATAGRAM parameter to do UDP messaging.  \n",
    "\n",
    "Notice that when we printed the socket object, it indicated an `fd` (*file descriptor*).  Each socket is assigned a unique `fd`. There are many similarities between an `fd` for real files and an `fd` for sockets.  Both have common operations such as `open, read, write`, and `close`.  Of course, there are also fundamental differences between files and sockets -- for example, files don't have `listen` and sockets don't have `seek`.  We'll get to the socket API calls in the next section. \n",
    "\n",
    "In any event, we can now connect to a server using this socket.  But note that if any error occurs during the creation of a socket then a socket.error is thrown.  Furthermore, we can only connect to a server by knowing it’s IP address or by specifying it's fully qualified domain name.  In this lab we will use IPv4 addresses only."
   ]
  },
  {
   "cell_type": "markdown",
   "metadata": {},
   "source": [
    "   #### 1B) Finding the IP address of a server: \n",
    "\n",
    "You can find the IP address of a server by using the unix `ping` command.  The `ping` command sends packets of data to a specific IP address on a network, and then lets you know how long it took to transmit that data and get a response. It’s a handy tool that you can use to quickly test various points of your network.  In the example below we send 3 pings to www.google.com  (the \"!\" symbol causes jupyter to execute a unix shell command).  Execute the ping command and examine the output."
   ]
  },
  {
   "cell_type": "code",
   "execution_count": null,
   "metadata": {},
   "outputs": [],
   "source": [
    "! ping www.google.com -c 3"
   ]
  },
  {
   "cell_type": "markdown",
   "metadata": {},
   "source": [
    "You can also find the IP address using the python socket's `gethostbyname` method:"
   ]
  },
  {
   "cell_type": "code",
   "execution_count": null,
   "metadata": {},
   "outputs": [],
   "source": [
    "import socket \n",
    "ip = socket.gethostbyname('www.google.com')\n",
    "print (ip)"
   ]
  },
  {
   "cell_type": "markdown",
   "metadata": {},
   "source": [
    "#### 1C) Connecting to a server:  An example script to connect to google\n",
    "\n",
    "The code block below executes the following flow:\n",
    "\n",
    "- First of all we make a socket.\n",
    "\n",
    "- Then we resolve google’s IP address and then we connect to google using port 80, the reserved port number used by web servers that use the HTTP protocol.\n",
    "\n",
    "- Once connected we use the **`send`** API call send a request to the server.  The message we send is an `HTTP GET` request for a web page.  Don't worry about the format of the `GET` request for now.\n",
    "\n",
    "- Finally we implement a block of code to receive the first block of data from the server, followed by a loop to receive the rest of the data from the server.  Why a loop?  Because the data being returned may be bigger than fits into one packet.  TCP is a STREAMING connection; we may get a lot of data back in multiple packets.  These packets are buffered inside the operating systems network stack.   We use the socket **`recv`** API to read the data and to tell the socket to give the python application no more than 10,000 bytes at each invocation.  We check the length of the data returned.  Once it hits 0, we are done. \n",
    "\n",
    "- Finally, we close the connection.\n",
    "\n",
    "See!  Easy-peasy!  But as useful as sockets are, you should be aware that there are more advanced python libraries for fetching and parsing web pages.  These include ['urllib'](https://docs.python.org/3/library/urllib.html), ['httplib'](https://docs.python.org/3/library/http.client.html) and the very useful['requests'](https://realpython.com/python-requests/) library, among others.  The Python Library called [BeautifulSoup](https://www.crummy.com/software/BeautifulSoup/bs4/doc/) is an awesome set of tools to parse HTTP and XML files.  We will get to these in future labs.  For now we are learning about basic socket operations.\n",
    "\n",
    "Execute the code block and examine the output.  You should see multiple blocks of data returned, each separated by a blank line.  \n"
   ]
  },
  {
   "cell_type": "code",
   "execution_count": null,
   "metadata": {},
   "outputs": [],
   "source": [
    "# An example script to connect to Google using socket programming in Python \n",
    "\n",
    "import socket # for socket \n",
    "import sys \n",
    "\n",
    "try: \n",
    "    s = socket.socket(socket.AF_INET, socket.SOCK_STREAM) \n",
    "    print (\"Socket successfully created\")\n",
    "except socket.error as err: \n",
    "    print (\"socket creation failed with error %s\") %(err) \n",
    "\n",
    "# default port for socket \n",
    "port = 80\n",
    "\n",
    "try: \n",
    "    hostname = \"www.google.com\"\n",
    "    host_ip = socket.gethostbyname(hostname) \n",
    "except socket.gaierror: \n",
    "\n",
    "    # this means could not resolve the host \n",
    "    print (\"there was an error resolving the host\")\n",
    "    sys.exit() \n",
    "\n",
    "# connecting to the server \n",
    "s.connect((host_ip, port)) \n",
    "\n",
    "print (\"the socket has successfully connected to\", hostname,  \"on address\", host_ip, \", port\", port)\n",
    "\n",
    "#  now get a web page of HTML data.  \n",
    "#  The response will print as raw ASCII HTML text; it will not be rendered as done in a web browser.\n",
    "#  the \"b\" character in front of the string means \"byte data\", it will not be convered to a python string.\n",
    "\n",
    "request = b\"GET / HTTP/1.1\\r\\nHost: www.google.com\\r\\n\\r\\n\"\n",
    "s.send(request)\n",
    "result = s.recv(10000)\n",
    "while (len(result) > 0):\n",
    "    print(\"\\n\", result)\n",
    "    result = s.recv(10000) \n",
    "s.close()"
   ]
  },
  {
   "cell_type": "markdown",
   "metadata": {},
   "source": [
    "#### 1D) Build and run a very simple server application\n",
    "\n",
    "In this section you will build a server application that does nothing more than send a greeting message to a client.\n",
    "\n",
    "You will notice the code below is similar to, but a bit more complicated, than the code for a client application.  A server has a `bind()` method which binds it to a specific ip and port so that it can listen to incoming requests on that ip and port.  A server has a `listen()` method which puts the server into listen mode. This allows the server to listen to incoming connections. Lastly, a server has an `accept()` and `close()` method. The accept method initiates a connection with the client and the close method closes the connection with the client.  We will go into more detail on these API calls in section 2 of this lab.  For now, don't worry about understanding everything, just get the general idea.\n",
    "\n",
    "Here is the program flow:\n",
    "\n",
    "* First of all we import socket which is necessary.\n",
    "* Then we make a socket object and reserve a port on our host system.\n",
    "* After that we `bind` our server to the specified port. Passing an empty string means that the server can listen to incoming connections from other computers as well. If we would have passed 127.0.0.1 then it would have listened to only those calls made within the local computer.\n",
    "* After that we put the server into listen mode. The parameter \"5\" here means that 5 connections are kept waiting if the server is busy and if a 6th socket trys to connect then the connection is refused.\n",
    "* At last we make a while loop and start to accept all incoming connections and close those connections after a thank you message to all connected sockets.\n",
    "\n",
    "Some special notes:\n",
    "\n",
    "* This program runs forever.  You may have to use the **`kernel`** menu item in jupyter to **restart and clear output** to kill this program.\n",
    "\n",
    "* If you get an error that states `this address already in use`, either wait for the old socket to timeout (several minutes) or change the port number.\n",
    "\n",
    "Now execute the code block below and go to the following section of text for your next set of instructions."
   ]
  },
  {
   "cell_type": "code",
   "execution_count": null,
   "metadata": {},
   "outputs": [],
   "source": [
    "# a very simple web server that simply greets the client and disconnects\n",
    "\n",
    "# first of all import the socket library \n",
    "import socket \n",
    "\n",
    "# next create a socket object \n",
    "s = socket.socket()\t\n",
    "print (\"Socket successfully created\")\n",
    "\n",
    "# reserve a port on your computer in our \n",
    "# case it is 12345 but it can be anything >= 1024 and <=65535\n",
    "port = 12345\n",
    "\n",
    "# Next bind to the port \n",
    "# we have not typed any ip in the ip field \n",
    "# instead we have inputted an empty string \n",
    "# this makes the server listen to requests \n",
    "# coming from other computers on the network \n",
    "s.bind(('', port)) \n",
    "print (\"socket bound to\", port, \"on host IP address\")\n",
    "\n",
    "# put the socket into listening mode \n",
    "s.listen(5)\n",
    "print (\"socket is listening\")\n",
    "\n",
    "# a forever loop until we interrupt it or \n",
    "# an error occurs \n",
    "\n",
    "while True: \n",
    "\n",
    "    # Establish connection with client. \n",
    "    c, addr = s.accept() \n",
    "    print (\"Got connection from\", addr) \n",
    "\n",
    "    # send a thank you message to the client. \n",
    "    c.send(b'\\nYou are such a nice client.\\nThank you for connecting, however I am going to disconnect now!  Bye!\\n\\n') \n",
    "\n",
    "    # Close the connection with the client \n",
    "    c.close() \n",
    "    \n",
    "s.close()\n"
   ]
  },
  {
   "cell_type": "markdown",
   "metadata": {},
   "source": [
    "After executing the code block above, you should see output showing that the server is running and listening on port 12345.  Now let's communicate with your mini-server!\n",
    "\n",
    "Use a separate linux terminal window for this next step. Jupyter doesn't let you run telnet from within a jupyter cell. \n",
    "\n",
    "Make sure you have telnet installed on your laptop.  You may have to manually install it; for example, it does not come in the default MACOS operating system.  Once you determine it is available go to your terminal window and execute the following command:\n",
    "\n",
    "  **`telnet localhost 12345`**  \n",
    "   \n",
    "   or \n",
    "   \n",
    "   **`telnet 127.0.0.1 12345`**   \n",
    "   \n",
    "   (127.0.0.1 is the IP loopback address on your host machine, also known as \"`localhost`\".\n",
    "   \n",
    "Repeat the telnet command several times.  You should get the server's message text each time you execute the command.  Notice that each time you connect to the server the output block in the code cell above adds an output line stating that a connection has been made.  Each connection is from some random port number chosen by the telnet command.\n",
    "\n",
    "Now you have to kill the server program.  Use the jupyter menu bar, select **`kernel`** and then select **`restart & clear all output`**.  Give it a minute or so to shut down and restart.  You will know you are ready to continue when the output messages from python cells are cleared out."
   ]
  },
  {
   "cell_type": "markdown",
   "metadata": {},
   "source": [
    "--- \n",
    "\n",
    "### Part 2:  A deeper look --  The Python Socket API\n",
    "\n",
    "\n",
    "\n",
    "#### Socket API Overview\n",
    "Python’s socket module provides an interface to the Berkeley sockets API. This is the module that we’ll use and discuss in this tutorial.\n",
    "\n",
    "The primary socket API functions and methods in this module are:\n",
    "\n",
    "```\n",
    "* socket()\n",
    "* bind()\n",
    "* listen()\n",
    "* accept()\n",
    "* connect()\n",
    "* connect_ex()\n",
    "* send()\n",
    "* sendall()\n",
    "* recv()\n",
    "* gethostbyname()\n",
    "* close()\n",
    "```\n",
    "\n",
    "Python provides a convenient and consistent API that maps directly to these system calls, their C counterparts. We’ll look at how these are used together in the next section.\n",
    "\n",
    "As part of its standard library, Python also has classes that make using these low-level socket functions easier. Although it’s not covered in this tutorial, see the socketserver module, a framework for network servers. There are also many modules available that implement higher-level Internet protocols like HTTP and SMTP. For an overview, see Internet Protocols and Support.\n",
    "\n",
    "Using the diagram below, let’s look at the sequence of socket API calls and data flow for TCP:\n",
    "\n",
    "\n",
    "#### TCP Sockets\n",
    "\n",
    "As you’ll see shortly, we’ll create a socket object using socket.socket() and specify the socket type as socket.SOCK_STREAM. When you do that, the default protocol that’s used is the Transmission Control Protocol (TCP). This is a good default and probably what you want.\n",
    "\n",
    "<img src=\"http://www.cs.colostate.edu/~cs457/images/jupyter/socketToSocket.jpg\" width=\"500px\" alt=\"socket to socket\" />\n",
    "\n",
    "Why should you use TCP? The Transmission Control Protocol (TCP):\n",
    "\n",
    "* Is reliable: packets dropped in the network are detected and retransmitted by the sender.\n",
    "* Has in-order data delivery: data is read by your application in the order it was written by the sender.\n",
    "\n",
    "In contrast, User Datagram Protocol (UDP) sockets created with socket.SOCK_DGRAM aren’t reliable, and data read by the receiver can be out-of-order from the sender’s writes.\n",
    "\n",
    "Why is this important? Networks are a best-effort delivery system. There’s no guarantee that your data will reach its destination or that you’ll receive what’s been sent to you.\n",
    "\n",
    "Network devices (for example, routers and switches), have finite bandwidth available and their own inherent system limitations. They have CPUs, memory, buses, and interface packet buffers, just like our clients and servers. TCP relieves you from having to worry about packet loss, data arriving out-of-order, and many other things that invariably happen when you’re communicating across a network.\n",
    "\n",
    "In the diagram below, let’s look at the sequence of socket API calls and data flow for TCP:\n",
    "\n",
    "<img src=\"http://www.cs.colostate.edu/~cs457/images/jupyter/sockets-tcp-flow.jpg\" width=\"500px\" alt=\"TCP socket flow\" />\n",
    "\n",
    "The left-hand column represents the server. On the right-hand side is the client.\n",
    "\n",
    "Starting in the top left-hand column, note the API calls the server makes to setup a “listening” socket:\n",
    "\n",
    "```\n",
    "* socket()\n",
    "* bind()\n",
    "* listen()\n",
    "* accept()\n",
    "```\n",
    "\n",
    "A listening socket does just what it sounds like. It listens for connections from clients. When a client connects, the server calls accept() to accept, or complete, the connection.\n",
    "\n",
    "The client calls connect() to establish a connection to the server and initiate the three-way handshake. The handshake step is important since it ensures that each side of the connection is reachable in the network, in other words that the client can reach the server and vice-versa. It may be that only one host, client or server, can reach the other.\n",
    "\n",
    "In the middle is the round-trip section, where data is exchanged between the client and server using calls to send() and recv().\n",
    "\n",
    "At the bottom, the client and server close() their respective sockets.\n",
    "\n",
    "#### 2A) Create the Echo Server\n",
    "\n",
    "Now that you’ve seen an overview of the socket API and how the client and server communicate, let’s create our first client and server. We’ll begin with a simple implementation. The server will simply echo whatever it receives back to the client.\n",
    "\n",
    "Here is the code for the server, `echo-server.py`.  You will notice it uses a slightly more sophisticated python structures than the previous examples.  We'll explain the code in the next section.\n",
    "\n",
    "For now, just SHIFT-RETURN in the cell below to write the file to your current working directory where this jupyter notebook is located.  You will run the server soon after you examine the client program.\n"
   ]
  },
  {
   "cell_type": "code",
   "execution_count": 1,
   "metadata": {},
   "outputs": [
    {
     "name": "stdout",
     "output_type": "stream",
     "text": [
      "Overwriting cs457_echoServer.py\n"
     ]
    }
   ],
   "source": [
    "%%writefile cs457_echoServer.py\n",
    "\n",
    "# TCP echo server; performs one echo and then closes and halts\n",
    "\n",
    "import socket\n",
    "\n",
    "HOST = '127.0.0.1'  # Standard loopback interface address (localhost)\n",
    "PORT = 65432        # Port to listen on (non-privileged ports are > 1023)\n",
    "\n",
    "#use \"with\" so we don't have to explicitly close the socket\n",
    "with socket.socket(socket.AF_INET, socket.SOCK_STREAM) as s:  \n",
    "    s.bind((HOST, PORT))\n",
    "    s.listen()\n",
    "    conn, addr = s.accept()\n",
    "    with conn:\n",
    "        print('Connected by', addr)\n",
    "        while True:\n",
    "            data = conn.recv(1024)\n",
    "            if not data:\n",
    "                break\n",
    "            conn.sendall(data)"
   ]
  },
  {
   "cell_type": "markdown",
   "metadata": {},
   "source": [
    "Let’s walk through each API call and see what’s happening.\n",
    "\n",
    "* 'socket.socket()' creates a socket object that supports the context manager type, so you can use it in a `with` statement. There’s no need to call s.close() because the `with` statement will close the connection automatically upon its exit.\n",
    "\n",
    "* 'bind()' is used to associate the socket with a specific network interface and port number.  The values passed to bind() depend on the address family of the socket. In this example, we’re using socket.AF_INET (IPv4). So it expects a 2-tuple: (host, port).  host can be a hostname, IP address, or empty string. If an IP address is used, host should be an IPv4-formatted address string. The IP address 127.0.0.1 is the standard IPv4 address for the loopback interface, so only processes on the host will be able to connect to the server. If you pass an empty string, the server will accept connections on all available IPv4 interfaces.\n",
    "\n",
    "* 'listen()' enables a server to accept() connections. It makes it a “listening” socket.  `listen()` has a backlog parameter. It specifies the number of unaccepted connections that the system will allow before refusing new connections. Starting in Python 3.5, it’s optional. If not specified, a default backlog value is chosen.  If your server receives a lot of connection requests simultaneously, increasing the backlog value may help by setting the maximum length of the queue for pending connections. The maximum value is system dependent. \n",
    "\n",
    "* `accept()` blocks and waits for an incoming connection. When a client connects, it returns a new socket object representing the connection and a tuple holding the address of the client. The tuple will contain (host, port) for IPv4 connections or (host, port, flowinfo, scopeid) for IPv6.   **One thing that’s imperative to understand is that we now have a new socket object from accept().** This is important since the `conn` socket is the socket that you’ll use to communicate with the client. It is distinct from the *listening socket* that the server is using to accept new connections.\n",
    "\n",
    "* After getting the client socket object conn from `accept()`, an infinite `while` loop is used to loop over blocking calls to `conn.recv()`. This reads whatever data the client sends and echoes it back using `conn.sendall()`.  If `conn.recv()` returns an empty bytes object, b'', then the client closed the connection and the loop is terminated. The `with` statement is used with `conn` to automatically close the socket at the end of the block."
   ]
  },
  {
   "cell_type": "markdown",
   "metadata": {},
   "source": [
    "#### 2B) Create the Echo Client \n",
    "\n",
    "This echo client code follows the logic illustrated on the right hand side of the client-server block diagram pictured earlier in this lab.\n",
    "\n",
    "In comparison to the server, the client is pretty simple. It creates a socket object, connects to the server and calls s.sendall() to send its message.  Lastly, the code calls s.recv() to read the server’s reply and then prints it.\n",
    "\n",
    "Note that the string in the `sendall` is modified with a \"b\" character.  This converts the string into a byte stream. \n",
    " \n",
    "Edit the code below to include your name in the `sendall` string.  Then execute the cell (SHIFT-RETURN)  to write the file to your current working directory where this jupyter notebook is located.   We will execute the code later in a seperate step."
   ]
  },
  {
   "cell_type": "code",
   "execution_count": 2,
   "metadata": {},
   "outputs": [
    {
     "name": "stdout",
     "output_type": "stream",
     "text": [
      "Overwriting cs457_echoClient.py\n"
     ]
    }
   ],
   "source": [
    "%%writefile cs457_echoClient.py\n",
    "\n",
    "# TCP echo client\n",
    "\n",
    "import socket\n",
    "\n",
    "HOST = '127.0.0.1'  # The server's hostname or IP address\n",
    "PORT = 65432        # The port used by the server\n",
    "\n",
    "with socket.socket(socket.AF_INET, socket.SOCK_STREAM) as s:\n",
    "    s.connect((HOST, PORT))\n",
    "    s.sendall(b'Hello, Cade')  # modify this to say hello to your name\n",
    "    data = s.recv(1024)\n",
    "    \n",
    "print('Received', repr(data))"
   ]
  },
  {
   "cell_type": "markdown",
   "metadata": {},
   "source": [
    "#### 2C) Start the server and view the socket state\n",
    "\n",
    "OK, let's run the server by executing the cell below (SHIFT-RETURN).\n",
    "\n",
    "When you run the server, it will appear that the jupyter notebook is hung (the `In [*]:` on the left side of the cell doesn't convert into a number indicating the cell has completed execution.)  Don't panic!  The program is simply blocked waiting for input.  "
   ]
  },
  {
   "cell_type": "code",
   "execution_count": 3,
   "metadata": {},
   "outputs": [
    {
     "name": "stdout",
     "output_type": "stream",
     "text": [
      "Connected by ('127.0.0.1', 62244)\r\n"
     ]
    }
   ],
   "source": [
    "! python3 cs457_echoServer.py"
   ]
  },
  {
   "cell_type": "markdown",
   "metadata": {},
   "source": [
    "To see the current state of sockets on your host, you can use the `netstat` command. It’s available by default on macOS, Linux, and Windows.\n",
    "\n",
    "Here’s some sample netstat output from macOS after starting the server:\n",
    "\n",
    "```\n",
    "$ netstat -an | grep 65432\n",
    "\n",
    "Active Internet connections (including servers)\n",
    "Proto Recv-Q Send-Q  Local Address          Foreign Address        (state)  \n",
    "tcp4       0      0  127.0.0.1.65432        *.*                    LISTEN\n",
    "```\n",
    "\n",
    "Start a terminal window and execute the `netstat` command as illustrated above.  You should receive similar output.\n",
    "\n",
    "We now want to run the client.  Unfortunately, we can't easily execute two separate processes within a single jupyter notebook.  Therefore we will run the client in the separate terminal window you just created.\n",
    "\n",
    "Within the terminal window, execute the shell command: `python cs457_echoClient.py`. \n",
    "\n",
    "You should see the output from the client in the terminal window.  You should also go back to the cell that executed the server.  You will notice that it has stopped, and that it has also printed the IP address and port of the connecting client.  Note that the port number is randomly chosen by the client.\n",
    "\n"
   ]
  },
  {
   "cell_type": "markdown",
   "metadata": {},
   "source": [
    "#### 2D)  Running the client/server over a real network\n",
    "\n",
    "So far you have only run the client and server programs on `localhost` (127.0.0.1).  Now let's run the program across a real network!  \n",
    "\n",
    "**Step 1:**  Modify the server to listen on IP address 0.0.0.0 (which is a special address that indicates \"any available address\").  Execute the cell below to save this slightly modified file:  "
   ]
  },
  {
   "cell_type": "code",
   "execution_count": 4,
   "metadata": {},
   "outputs": [
    {
     "name": "stdout",
     "output_type": "stream",
     "text": [
      "Overwriting cs457_echoServer.py\n"
     ]
    }
   ],
   "source": [
    "%%writefile cs457_echoServer.py\n",
    "\n",
    "# TCP echo server; performs one echo and then closes and halts\n",
    "\n",
    "import socket\n",
    "\n",
    "HOST = '0.0.0.0'    # Listen on available IP address\n",
    "PORT = 65432        # Port to listen on (non-privileged ports are > 1023)\n",
    "\n",
    "#use \"with\" so we don't have to explicitly close the socket\n",
    "with socket.socket(socket.AF_INET, socket.SOCK_STREAM) as s:  \n",
    "    s.bind((HOST, PORT))\n",
    "    s.listen()\n",
    "    conn, addr = s.accept()\n",
    "    with conn:\n",
    "        print('Connected by', addr)\n",
    "        while True:\n",
    "            data = conn.recv(1024)\n",
    "            if not data:\n",
    "                break\n",
    "            conn.sendall(data)"
   ]
  },
  {
   "cell_type": "markdown",
   "metadata": {},
   "source": [
    "**Step 2:** Next, you will need to get the IP address where the server code is running.  \n",
    "\n",
    "Execute the `ifconfig` command in the following cell and **note the IP address**.  It will typically be the eth0 field (en0 in Apple MacBooks).  \n",
    "\n",
    "> If the cell outputs \"command not found\", edit the cell to execute `/usr/sbin/ifconfig`.\n",
    "> Also note:  Windows machines don't have ifconfig.  Use ipconfig instead."
   ]
  },
  {
   "cell_type": "code",
   "execution_count": 5,
   "metadata": {},
   "outputs": [
    {
     "name": "stdout",
     "output_type": "stream",
     "text": [
      "lo0: flags=8049<UP,LOOPBACK,RUNNING,MULTICAST> mtu 16384\r\n",
      "\toptions=1203<RXCSUM,TXCSUM,TXSTATUS,SW_TIMESTAMP>\r\n",
      "\tinet 127.0.0.1 netmask 0xff000000 \r\n",
      "\tinet6 ::1 prefixlen 128 \r\n",
      "\tinet6 fe80::1%lo0 prefixlen 64 scopeid 0x1 \r\n",
      "\tnd6 options=201<PERFORMNUD,DAD>\r\n",
      "gif0: flags=8010<POINTOPOINT,MULTICAST> mtu 1280\r\n",
      "stf0: flags=0<> mtu 1280\r\n",
      "XHC20: flags=0<> mtu 0\r\n",
      "VHC128: flags=0<> mtu 0\r\n",
      "XHC0: flags=0<> mtu 0\r\n",
      "en3: flags=8863<UP,BROADCAST,SMART,RUNNING,SIMPLEX,MULTICAST> mtu 1500\r\n",
      "\tether ac:de:48:00:11:22 \r\n",
      "\tinet6 fe80::aede:48ff:fe00:1122%en3 prefixlen 64 scopeid 0x7 \r\n",
      "\tnd6 options=201<PERFORMNUD,DAD>\r\n",
      "\tmedia: autoselect (100baseTX <full-duplex>)\r\n",
      "\tstatus: active\r\n",
      "ap1: flags=8802<BROADCAST,SIMPLEX,MULTICAST> mtu 1500\r\n",
      "\tether a6:83:e7:49:94:2a \r\n",
      "\tmedia: autoselect\r\n",
      "\tstatus: inactive\r\n",
      "en0: flags=8863<UP,BROADCAST,SMART,RUNNING,SIMPLEX,MULTICAST> mtu 1500\r\n",
      "\tether a4:83:e7:49:94:2a \r\n",
      "\tinet6 fe80::18ac:8e43:af1d:960d%en0 prefixlen 64 secured scopeid 0x9 \r\n",
      "\tinet 192.168.0.4 netmask 0xffffff00 broadcast 192.168.0.255\r\n",
      "\tnd6 options=201<PERFORMNUD,DAD>\r\n",
      "\tmedia: autoselect\r\n",
      "\tstatus: active\r\n",
      "p2p0: flags=8843<UP,BROADCAST,RUNNING,SIMPLEX,MULTICAST> mtu 2304\r\n",
      "\tether 06:83:e7:49:94:2a \r\n",
      "\tmedia: autoselect\r\n",
      "\tstatus: inactive\r\n",
      "awdl0: flags=8943<UP,BROADCAST,RUNNING,PROMISC,SIMPLEX,MULTICAST> mtu 1484\r\n",
      "\tether 02:dd:9d:a7:43:9b \r\n",
      "\tinet6 fe80::dd:9dff:fea7:439b%awdl0 prefixlen 64 scopeid 0xb \r\n",
      "\tnd6 options=201<PERFORMNUD,DAD>\r\n",
      "\tmedia: autoselect\r\n",
      "\tstatus: active\r\n",
      "en1: flags=8963<UP,BROADCAST,SMART,RUNNING,PROMISC,SIMPLEX,MULTICAST> mtu 1500\r\n",
      "\toptions=60<TSO4,TSO6>\r\n",
      "\tether 1a:00:21:18:c4:01 \r\n",
      "\tmedia: autoselect <full-duplex>\r\n",
      "\tstatus: inactive\r\n",
      "en2: flags=8963<UP,BROADCAST,SMART,RUNNING,PROMISC,SIMPLEX,MULTICAST> mtu 1500\r\n",
      "\toptions=60<TSO4,TSO6>\r\n",
      "\tether 1a:00:21:18:c4:00 \r\n",
      "\tmedia: autoselect <full-duplex>\r\n",
      "\tstatus: inactive\r\n",
      "bridge0: flags=8863<UP,BROADCAST,SMART,RUNNING,SIMPLEX,MULTICAST> mtu 1500\r\n",
      "\toptions=63<RXCSUM,TXCSUM,TSO4,TSO6>\r\n",
      "\tether 1a:00:21:18:c4:01 \r\n",
      "\tConfiguration:\r\n",
      "\t\tid 0:0:0:0:0:0 priority 0 hellotime 0 fwddelay 0\r\n",
      "\t\tmaxage 0 holdcnt 0 proto stp maxaddr 100 timeout 1200\r\n",
      "\t\troot id 0:0:0:0:0:0 priority 0 ifcost 0 port 0\r\n",
      "\t\tipfilter disabled flags 0x2\r\n",
      "\tmember: en1 flags=3<LEARNING,DISCOVER>\r\n",
      "\t        ifmaxaddr 0 port 12 priority 0 path cost 0\r\n",
      "\tmember: en2 flags=3<LEARNING,DISCOVER>\r\n",
      "\t        ifmaxaddr 0 port 13 priority 0 path cost 0\r\n",
      "\tnd6 options=201<PERFORMNUD,DAD>\r\n",
      "\tmedia: <unknown type>\r\n",
      "\tstatus: inactive\r\n",
      "utun0: flags=8051<UP,POINTOPOINT,RUNNING,MULTICAST> mtu 2000\r\n",
      "\tinet6 fe80::620:1d9d:bb05:acad%utun0 prefixlen 64 scopeid 0xf \r\n",
      "\tnd6 options=201<PERFORMNUD,DAD>\r\n",
      "utun1: flags=8051<UP,POINTOPOINT,RUNNING,MULTICAST> mtu 1380\r\n",
      "\tinet6 fe80::67ce:666d:9ba1:ef72%utun1 prefixlen 64 scopeid 0x10 \r\n",
      "\tnd6 options=201<PERFORMNUD,DAD>\r\n"
     ]
    }
   ],
   "source": [
    "! ifconfig"
   ]
  },
  {
   "cell_type": "markdown",
   "metadata": {},
   "source": [
    "**Step 3:** Now edit the client code below to use the IP address you just found.  Make sure you also add your name to the echo string. \n",
    "\n",
    "Execute the cell to save the program.  "
   ]
  },
  {
   "cell_type": "code",
   "execution_count": 6,
   "metadata": {},
   "outputs": [
    {
     "name": "stdout",
     "output_type": "stream",
     "text": [
      "Overwriting cs457_echoClient.py\n"
     ]
    }
   ],
   "source": [
    "%%writefile cs457_echoClient.py\n",
    "\n",
    "# TCP echo client\n",
    "\n",
    "import socket\n",
    "\n",
    "HOST = '192.168.0.4'    # MODIFY THIS LINE TO USE THE SERVER'S IP ADDRESS!!!!\n",
    "PORT = 65432        # The port used by the server\n",
    "\n",
    "with socket.socket(socket.AF_INET, socket.SOCK_STREAM) as s:\n",
    "    s.connect((HOST, PORT))\n",
    "    s.sendall(b'Hello, CADE')  # modify this to say hello to your name\n",
    "    data = s.recv(1024)\n",
    "    \n",
    "print('Received', repr(data))"
   ]
  },
  {
   "cell_type": "markdown",
   "metadata": {},
   "source": [
    "**Step 4:**  Start the server by executing the cell below."
   ]
  },
  {
   "cell_type": "code",
   "execution_count": null,
   "metadata": {},
   "outputs": [],
   "source": [
    "! python3 cs457_echoServer.py"
   ]
  },
  {
   "cell_type": "markdown",
   "metadata": {},
   "source": [
    "** Step 5:** Final Step.  You need a copy of the echo client on a different computer.  Login to a random linux lab machine.  Use your favorite editor and copy and paste the client code into a file name `remoteEchoClient.py`.  \n",
    "\n",
    "Now execute this client by running the shell command: `python3 remoteEchoClient.py`.  **Note the use of python version 3!!!  The lab machines default to version 2 which won't work due to the with statement**.\n",
    "\n",
    "\n",
    "#### What to turn in\n",
    "\n",
    "After successfully running the echo client, copy and paste the terminal output showing the command and its output (which should contain your name) to a file, then submit this to Canvas."
   ]
  }
 ],
 "metadata": {
  "kernelspec": {
   "display_name": "Python 3",
   "language": "python",
   "name": "python3"
  },
  "language_info": {
   "codemirror_mode": {
    "name": "ipython",
    "version": 3
   },
   "file_extension": ".py",
   "mimetype": "text/x-python",
   "name": "python",
   "nbconvert_exporter": "python",
   "pygments_lexer": "ipython3",
   "version": "3.7.6"
  }
 },
 "nbformat": 4,
 "nbformat_minor": 2
}
